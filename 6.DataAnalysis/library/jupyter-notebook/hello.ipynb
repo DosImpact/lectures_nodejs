{
 "cells": [
  {
   "cell_type": "code",
   "execution_count": 6,
   "metadata": {},
   "outputs": [
    {
     "name": "stdout",
     "output_type": "stream",
     "text": [
      "hello\n"
     ]
    }
   ],
   "source": [
    "print(\"hello\")"
   ]
  },
  {
   "cell_type": "code",
   "execution_count": 2,
   "metadata": {},
   "outputs": [
    {
     "name": "stdout",
     "output_type": "stream",
     "text": [
      "/Users/dosimpact/workspace/project/lectures_backend/6.DataAnalysis/library/jupyter-notebook/pip_env/bin/python3\n"
     ]
    }
   ],
   "source": [
    "!which python3"
   ]
  },
  {
   "cell_type": "code",
   "execution_count": 1,
   "metadata": {},
   "outputs": [
    {
     "name": "stdout",
     "output_type": "stream",
     "text": [
      "Collecting QuantStats\n",
      "  Using cached QuantStats-0.0.59-py2.py3-none-any.whl (41 kB)\n",
      "Collecting numpy>=1.16.5\n",
      "  Using cached numpy-1.24.2-cp39-cp39-macosx_11_0_arm64.whl (13.9 MB)\n",
      "Requirement already satisfied: python-dateutil>=2.0 in ./pip_env/lib/python3.9/site-packages (from QuantStats) (2.8.2)\n",
      "Collecting seaborn>=0.9.0\n",
      "  Using cached seaborn-0.12.2-py3-none-any.whl (293 kB)\n",
      "Collecting matplotlib>=3.0.0\n",
      "  Using cached matplotlib-3.7.1-cp39-cp39-macosx_11_0_arm64.whl (7.3 MB)\n",
      "Collecting scipy>=1.2.0\n",
      "  Using cached scipy-1.10.1-cp39-cp39-macosx_12_0_arm64.whl (28.9 MB)\n",
      "Collecting tabulate>=0.8.0\n",
      "  Using cached tabulate-0.9.0-py3-none-any.whl (35 kB)\n",
      "Collecting yfinance>=0.1.70\n",
      "  Using cached yfinance-0.2.12-py2.py3-none-any.whl (59 kB)\n",
      "Collecting pandas>=0.24.0\n",
      "  Using cached pandas-1.5.3-cp39-cp39-macosx_11_0_arm64.whl (11.0 MB)\n",
      "Collecting pyparsing>=2.3.1\n",
      "  Using cached pyparsing-3.0.9-py3-none-any.whl (98 kB)\n",
      "Collecting importlib-resources>=3.2.0\n",
      "  Using cached importlib_resources-5.12.0-py3-none-any.whl (36 kB)\n",
      "Collecting kiwisolver>=1.0.1\n",
      "  Using cached kiwisolver-1.4.4-cp39-cp39-macosx_11_0_arm64.whl (63 kB)\n",
      "Collecting cycler>=0.10\n",
      "  Using cached cycler-0.11.0-py3-none-any.whl (6.4 kB)\n",
      "Collecting fonttools>=4.22.0\n",
      "  Using cached fonttools-4.39.2-py3-none-any.whl (1.0 MB)\n",
      "Collecting pillow>=6.2.0\n",
      "  Using cached Pillow-9.4.0-cp39-cp39-macosx_11_0_arm64.whl (3.0 MB)\n",
      "Collecting contourpy>=1.0.1\n",
      "  Using cached contourpy-1.0.7-cp39-cp39-macosx_11_0_arm64.whl (229 kB)\n",
      "Requirement already satisfied: packaging>=20.0 in ./pip_env/lib/python3.9/site-packages (from matplotlib>=3.0.0->QuantStats) (23.0)\n",
      "Collecting pytz>=2020.1\n",
      "  Using cached pytz-2022.7.1-py2.py3-none-any.whl (499 kB)\n",
      "Requirement already satisfied: six>=1.5 in ./pip_env/lib/python3.9/site-packages (from python-dateutil>=2.0->QuantStats) (1.16.0)\n",
      "Collecting frozendict>=2.3.4\n",
      "  Using cached frozendict-2.3.5-cp39-cp39-macosx_10_9_universal2.whl\n",
      "Collecting requests>=2.26\n",
      "  Using cached requests-2.28.2-py3-none-any.whl (62 kB)\n",
      "Collecting multitasking>=0.0.7\n",
      "  Using cached multitasking-0.0.11-py3-none-any.whl (8.5 kB)\n",
      "Collecting html5lib>=1.1\n",
      "  Using cached html5lib-1.1-py2.py3-none-any.whl (112 kB)\n",
      "Collecting beautifulsoup4>=4.11.1\n",
      "  Using cached beautifulsoup4-4.11.2-py3-none-any.whl (129 kB)\n",
      "Collecting appdirs>=1.4.4\n",
      "  Using cached appdirs-1.4.4-py2.py3-none-any.whl (9.6 kB)\n",
      "Collecting cryptography>=3.3.2\n",
      "  Using cached cryptography-39.0.2-cp36-abi3-macosx_10_12_universal2.whl (5.4 MB)\n",
      "Collecting lxml>=4.9.1\n",
      "  Using cached lxml-4.9.2.tar.gz (3.7 MB)\n",
      "  Preparing metadata (setup.py) ... \u001b[?25ldone\n",
      "\u001b[?25hCollecting soupsieve>1.2\n",
      "  Using cached soupsieve-2.4-py3-none-any.whl (37 kB)\n",
      "Collecting cffi>=1.12\n",
      "  Using cached cffi-1.15.1-cp39-cp39-macosx_11_0_arm64.whl (174 kB)\n",
      "Collecting webencodings\n",
      "  Using cached webencodings-0.5.1-py2.py3-none-any.whl (11 kB)\n",
      "Requirement already satisfied: zipp>=3.1.0 in ./pip_env/lib/python3.9/site-packages (from importlib-resources>=3.2.0->matplotlib>=3.0.0->QuantStats) (3.15.0)\n",
      "Collecting idna<4,>=2.5\n",
      "  Using cached idna-3.4-py3-none-any.whl (61 kB)\n",
      "Collecting certifi>=2017.4.17\n",
      "  Using cached certifi-2022.12.7-py3-none-any.whl (155 kB)\n",
      "Collecting charset-normalizer<4,>=2\n",
      "  Using cached charset_normalizer-3.1.0-cp39-cp39-macosx_11_0_arm64.whl (122 kB)\n",
      "Collecting urllib3<1.27,>=1.21.1\n",
      "  Using cached urllib3-1.26.15-py2.py3-none-any.whl (140 kB)\n",
      "Collecting pycparser\n",
      "  Using cached pycparser-2.21-py2.py3-none-any.whl (118 kB)\n",
      "Building wheels for collected packages: lxml\n",
      "  Building wheel for lxml (setup.py) ... \u001b[?25ldone\n",
      "\u001b[?25h  Created wheel for lxml: filename=lxml-4.9.2-cp39-cp39-macosx_10_9_universal2.whl size=3254336 sha256=23e26042ff4cbab9232ce5daddae6543d89a4d571db4bf6edccd0b531845d3ab\n",
      "  Stored in directory: /Users/dosimpact/Library/Caches/pip/wheels/74/7c/5a/e117656a962a1a15a3d2ac1bde4bc6193d62dc5d7e9c51e15e\n",
      "Successfully built lxml\n",
      "Installing collected packages: webencodings, pytz, multitasking, appdirs, urllib3, tabulate, soupsieve, pyparsing, pycparser, pillow, numpy, lxml, kiwisolver, importlib-resources, idna, html5lib, frozendict, fonttools, cycler, charset-normalizer, certifi, scipy, requests, pandas, contourpy, cffi, beautifulsoup4, matplotlib, cryptography, yfinance, seaborn, QuantStats\n",
      "Successfully installed QuantStats-0.0.59 appdirs-1.4.4 beautifulsoup4-4.11.2 certifi-2022.12.7 cffi-1.15.1 charset-normalizer-3.1.0 contourpy-1.0.7 cryptography-39.0.2 cycler-0.11.0 fonttools-4.39.2 frozendict-2.3.5 html5lib-1.1 idna-3.4 importlib-resources-5.12.0 kiwisolver-1.4.4 lxml-4.9.2 matplotlib-3.7.1 multitasking-0.0.11 numpy-1.24.2 pandas-1.5.3 pillow-9.4.0 pycparser-2.21 pyparsing-3.0.9 pytz-2022.7.1 requests-2.28.2 scipy-1.10.1 seaborn-0.12.2 soupsieve-2.4 tabulate-0.9.0 urllib3-1.26.15 webencodings-0.5.1 yfinance-0.2.12\n"
     ]
    }
   ],
   "source": [
    "!pip3 install QuantStats"
   ]
  },
  {
   "cell_type": "code",
   "execution_count": null,
   "metadata": {},
   "outputs": [],
   "source": []
  }
 ],
 "metadata": {
  "kernelspec": {
   "display_name": "pip_env",
   "language": "python",
   "name": "python3"
  },
  "language_info": {
   "codemirror_mode": {
    "name": "ipython",
    "version": 3
   },
   "file_extension": ".py",
   "mimetype": "text/x-python",
   "name": "python",
   "nbconvert_exporter": "python",
   "pygments_lexer": "ipython3",
   "version": "3.9.6"
  },
  "orig_nbformat": 4,
  "vscode": {
   "interpreter": {
    "hash": "4ec0d539dfa46358db78844c7678703d5897437cdfe32d179aabbce5d0b32f5c"
   }
  }
 },
 "nbformat": 4,
 "nbformat_minor": 2
}
